{
 "cells": [
  {
   "cell_type": "markdown",
   "id": "scm_intro",
   "metadata": {},
   "source": [
    "# Otimização de Supply Chain\n",
    "\n",
    "Este exemplo demonstra (1) análise de desempenho de fornecedores (On-Time Delivery, Lead Time, Taxa de Defeitos, Custo) e (2) otimização de estoque via política baseada em nível de serviço. A ideia é identificar fornecedores ideais e acionar ajustes de reposição para reduzir rupturas e custos totais.\n",
    "\n",
    "## Métricas-chave\n",
    "- On-Time Delivery (OTD): % de pedidos entregues no prazo.\n",
    "- Lead Time médio e sua variabilidade.\n",
    "- Defect Rate: % de itens com defeito.\n",
    "- Unit Cost e Custo total ponderado.\n",
    "\n",
    "Com base nessas métricas, ranqueamos fornecedores e sugerimos um portfólio ótimo (p.ex., manter múltiplas fontes para mitigar risco)."
   ]
  },
  {
   "cell_type": "code",
   "execution_count": null,
   "id": "read_data",
   "metadata": {},
   "outputs": [],
   "source": [
    "# (2) Leitura dos dados\n",
    "import pandas as pd\n",
    "import numpy as np\n",
    "import matplotlib.pyplot as plt\n",
    "import seaborn as sns\n",
    "\n",
    "plt.style.use('default')\n",
    "sns.set_palette('husl')\n",
    "\n",
    "# Espera-se um arquivo notebooks/operations_data.csv com colunas, por exemplo:\n",
    "# supplier, on_time_rate, lead_time_days, defect_rate, unit_cost, quantity\n",
    "df = pd.read_csv('notebooks/operations_data.csv')\n",
    "df.head()"
   ]
  },
  {
   "cell_type": "code",
   "execution_count": null,
   "id": "analysis_rank",
   "metadata": {},
   "outputs": [],
   "source": [
    "# (3) Análise de métricas de entrega e sugestão de fornecedores ideais\n",
    "metrics = df.copy()\n",
    "# Normalizações/penalidades para compor um score: maior melhor\n",
    "# Pesos podem ser ajustados conforme estratégia\n",
    "w_otd, w_lt, w_def, w_cost = 0.35, 0.25, 0.2, 0.2\n",
    "# Escalas (min-max) para lead time, defeito e custo (quanto menor melhor)\n",
    "for col in ['lead_time_days','defect_rate','unit_cost']:\n",
    "    cmin, cmax = metrics[col].min(), metrics[col].max()\n",
    "    metrics[f'{col}_norm'] = 1 - (metrics[col] - cmin) / (cmax - cmin + 1e-9)\n",
    "# OTD já é % alto melhor; normalizamos a 0-1 se necessário\n",
    "if metrics['on_time_rate'].max() > 1.0:\n",
    "    metrics['otd_norm'] = metrics['on_time_rate'] / 100.0\n",
    "else:\n",
    "    metrics['otd_norm'] = metrics['on_time_rate']\n",
    "\n",
    "metrics['supplier_score'] = (w_otd*metrics['otd_norm'] +\n",
    "                             w_lt*metrics['lead_time_days_norm'] +\n",
    "                             w_def*metrics['defect_rate_norm'] +\n",
    "                             w_cost*metrics['unit_cost_norm'])\n",
    "\n",
    "ranking = metrics.sort_values('supplier_score', ascending=False)\n",
    "top_suppliers = ranking[['supplier','supplier_score','on_time_rate','lead_time_days','defect_rate','unit_cost']].head(5)\n",
    "print('Top fornecedores sugeridos:')\n",
    "display(top_suppliers)\n",
    "\n",
    "# Exemplo simples de alocação sugerida baseada em score (proporcional)\n",
    "scores = ranking.set_index('supplier')['supplier_score']\n",
    "alloc = (scores / scores.sum()).round(2)\n",
    "print('Sugestão de alocação proporcional ao desempenho:')\n",
    "display(alloc.to_frame('allocation_share'))\n"
   ]
  },
  {
   "cell_type": "code",
   "execution_count": null,
   "id": "plot_perf",
   "metadata": {},
   "outputs": [],
   "source": [
    "# (4) Gráfico de barras de desempenho dos fornecedores\n",
    "fig, ax = plt.subplots(figsize=(10,5))\n",
    "order = metrics.sort_values('supplier_score', ascending=False)['supplier']\n",
    "sns.barplot(data=metrics, x='supplier', y='supplier_score', order=order, ax=ax)\n",
    "ax.set_title('Score de Desempenho por Fornecedor')\n",
    "ax.set_xlabel('Fornecedor')\n",
    "ax.set_ylabel('Score (0-1)')\n",
    "plt.xticks(rotation=30, ha='right')\n",
    "plt.tight_layout()\n",
    "plt.show()"
   ]
  },
  {
   "cell_type": "markdown",
   "id": "interpret",
   "metadata": {},
   "source": [
    "# Interpretação e Recomendações\n",
    "- Fornecedores com maior score combinam alta pontualidade, menor lead time, baixa taxa de defeitos e custo competitivo.\n",
    "- Recomenda-se concentrar pedidos nos top fornecedores, mantendo ao menos um fornecedor secundário para resiliência.\n",
    "- Ajuste de estoque: para itens com alta variabilidade de lead time ou baixa OTD, elevar estoque de segurança; para itens estáveis, reduzir.\n",
    "- Revise pesos (w_otd, w_lt, w_def, w_cost) conforme estratégia (p.ex., priorizar qualidade vs. custo).\n",
    "- Monitore mensalmente e reestime scores para capturar mudanças de desempenho."
   ]
  }
 ],
 "metadata": {
  "kernelspec": {"display_name": "Python 3", "language": "python", "name": "python3"},
  "language_info": {"name": "python", "pygments_lexer": "ipython3"}
 },
 "nbformat": 4,
 "nbformat_minor": 5
}
