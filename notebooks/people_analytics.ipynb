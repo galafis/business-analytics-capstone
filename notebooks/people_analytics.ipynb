{
 "cells": [
  {
   "cell_type": "markdown",
   "id": "header",
   "metadata": {},
   "source": [
    "# People Analytics\n",
    "\n",
    "Este notebook contém análises e insights sobre dados de recursos humanos e pessoas.\n",
    "\n",
    "## Objetivos\n",
    "- Analisar performance e engajamento\n",
    "- Identificar tendências de RH\n",
    "- Otimizar gestão de talentos"
   ]
  },
  {
   "cell_type": "code",
   "execution_count": null,
   "id": "imports",
   "metadata": {},
   "outputs": [],
   "source": [
    "# Importações necessárias\n",
    "import pandas as pd\n",
    "import numpy as np\n",
    "import matplotlib.pyplot as plt\n",
    "import seaborn as sns\n",
    "\n",
    "# Configurações\n",
    "plt.style.use('default')\n",
    "sns.set_palette('husl')"
   ]
  }
 ],
 "metadata": {
  "kernelspec": {
   "display_name": "Python 3",
   "language": "python",
   "name": "python3"
  },
  "language_info": {
   "name": "python",
   "version": "3.8.0"
  }
 },
 "nbformat": 4,
 "nbformat_minor": 4
}
