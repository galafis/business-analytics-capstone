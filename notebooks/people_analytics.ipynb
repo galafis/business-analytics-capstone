{
 "cells": [
  {
   "cell_type": "markdown",
   "metadata": {},
   "source": [
    "# People Analytics: Análise de Desempenho e Retenção\n\n",
    "Objetivo: conduzir uma análise prática usando people_data.csv para (1) ler os dados, (2) calcular métricas-chave (média salarial, tempo de casa, turnover), (3) visualizar distribuição por departamento e tempo de empresa, e (4) interpretar achados e propor recomendações de RH para retenção e performance."
   ]
  },
  {
   "cell_type": "code",
   "execution_count": null,
   "metadata": {},
   "outputs": [],
   "source": [
    "# (2) Leitura de dados\n",
    "import pandas as pd\n",
    "import numpy as np\n",
    "\n",
    "# Ajuste o path se necessário\n",
    "df = pd.read_csv('../data/people_data.csv')\n",
    "print(df.shape)\n",
    "df.head()"
   ]
  },
  {
   "cell_type": "code",
   "execution_count": null,
   "metadata": {},
   "outputs": [],
   "source": [
    "# (3) Métricas agregadas: média salarial, tempo de casa, turnover\n",
    "from datetime import datetime\n",
    "\n",
    "# Supondo colunas: 'employee_id', 'department', 'salary', 'hire_date', 'termination_date' (NaN se ativo), 'performance_score'\n",
    "df['hire_date'] = pd.to_datetime(df['hire_date'], errors='coerce')\n",
    "df['termination_date'] = pd.to_datetime(df.get('termination_date'), errors='coerce')\n",
    "ref_date = pd.to_datetime(df.get('snapshot_date'), errors='coerce')\n",
    "ref_date = ref_date.iloc[0] if ref_date.notna().any() else pd.Timestamp.today().normalize()\n",
    "\n",
    "# Tempo de casa em anos\n",
    "end_date = df['termination_date'].fillna(ref_date)\n",
    "df['tenure_years'] = (end_date - df['hire_date']).dt.days / 365.25\n",
    "\n",
    "# Ativo x desligado\n",
    "df['active'] = df['termination_date'].isna()\n",
    "\n",
    "# Métricas globais\n",
    "avg_salary = df['salary'].mean()\n",
    "avg_tenure = df['tenure_years'].mean()\n",
    "turnover_rate = 1 - df['active'].mean()  # proporção desligada\n",
    "\n",
    "print({'avg_salary': round(avg_salary,2), 'avg_tenure_years': round(avg_tenure,2), 'turnover_rate': round(turnover_rate,3)})\n",
    "\n",
    "# Métricas por departamento\n",
    "dept_metrics = df.groupby('department').agg(\n",
    "    headcount=('employee_id', 'nunique'),\n",
    "    avg_salary=('salary', 'mean'),\n",
    "    avg_tenure=('tenure_years', 'mean'),\n",
    "    turnover_rate=('active', lambda s: 1 - s.mean()),\n",
    "    avg_perf=('performance_score','mean')\n",
    ").reset_index()\n",
    "dept_metrics['avg_salary'] = dept_metrics['avg_salary'].round(2)\n",
    "dept_metrics['avg_tenure'] = dept_metrics['avg_tenure'].round(2)\n",
    "dept_metrics['turnover_rate'] = dept_metrics['turnover_rate'].round(3)\n",
    "dept_metrics['avg_perf'] = dept_metrics['avg_perf'].round(2)\n",
    "dept_metrics.sort_values('turnover_rate', ascending=False)"
   ]
  },
  {
   "cell_type": "code",
   "execution_count": null,
   "metadata": {},
   "outputs": [],
   "source": [
    "# (4) Visualizações: distribuição por departamento e tempo de empresa\n",
    "import seaborn as sns\n",
    "import matplotlib.pyplot as plt\n",
    "sns.set(style='whitegrid')\n",
    "\n",
    "fig, axes = plt.subplots(1, 2, figsize=(14,5))\n",
    "\n",
    "# Distribuição de headcount por departamento\n",
    "dept_counts = df['department'].value_counts().sort_values(ascending=False)\n",
    "sns.barplot(x=dept_counts.values, y=dept_counts.index, ax=axes[0], color='#4C72B0')\n",
    "axes[0].set_title('Headcount por Departamento')\n",
    "axes[0].set_xlabel('Colaboradores')\n",
    "axes[0].set_ylabel('Departamento')\n",
    "\n",
    "# Distribuição de tempo de casa\n",
    "sns.histplot(df['tenure_years'].dropna(), bins=20, kde=True, ax=axes[1], color='#55A868')\n",
    "axes[1].set_title('Distribuição de Tempo de Casa (anos)')\n",
    "axes[1].set_xlabel('Anos de empresa')\n",
    "axes[1].set_ylabel('Colaboradores')\n",
    "plt.tight_layout()\n",
    "plt.show()\n",
    "\n",
    "# Boxplot salário por departamento (extra)\n",
    "plt.figure(figsize=(12,5))\n",
    "sns.boxplot(data=df, x='department', y='salary')\n",
    "plt.title('Salário por Departamento')\n",
    "plt.xticks(rotation=30, ha='right')\n",
    "plt.tight_layout()\n",
    "plt.show()"
   ]
  },
  {
   "cell_type": "markdown",
   "metadata": {},
   "source": [
    "## Interpretação e Recomendações\n\n",
    "- Se o turnover estiver elevado em certos departamentos, revisar práticas de liderança, cargas de trabalho e trilhas de carreira.\n",
    "- Programas de reconhecimento e ajuste de faixas salariais podem reduzir evasão se salários e performance não estiverem alinhados.\n",
    "- Reforçar onboarding e mentoria para grupos com menor tempo de casa e maior rotatividade.\n",
    "- Monitorar coortes por ano de contratação para entender riscos de saída antecipada.\n",
    "- Estabelecer metas de OKRs por time e ciclos de feedback contínuo para elevar performance.\n\n",
    "Próximos passos: modelar propensão ao desligamento (churn) usando variáveis de satisfação, remuneração, senioridade e gestor; testar intervenções A/B em políticas de retenção."
   ]
  }
 ],
 "metadata": {
  "kernelspec": {
   "display_name": "Python 3",
   "language": "python",
   "name": "python3"
  },
  "language_info": {
   "name": "python",
   "version": "3.x"
  }
 },
 "nbformat": 4,
 "nbformat_minor": 5
}
