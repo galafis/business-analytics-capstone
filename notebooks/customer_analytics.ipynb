{
 "cells": [
  {
   "cell_type": "markdown",
   "id": "header",
   "metadata": {},
   "source": [
    "# Customer Analytics\n",
    "\n",
    "Este notebook contém análises e insights sobre dados de clientes.\n",
    "\n",
    "## Objetivos\n",
    "- Analisar perfil dos clientes\n",
    "- Identificar padrões de comportamento\n",
    "- Gerar insights para tomada de decisão"
   ]
  },
  {
   "cell_type": "code",
   "execution_count": null,
   "id": "imports",
   "metadata": {},
   "outputs": [],
   "source": [
    "# Importações necessárias\n",
    "import pandas as pd\n",
    "import numpy as np\n",
    "import matplotlib.pyplot as plt\n",
    "import seaborn as sns\n",
    "\n",
    "# Configurações\n",
    "plt.style.use('default')\n",
    "sns.set_palette('husl')"
   ]
  }
 ],
 "metadata": {
  "kernelspec": {
   "display_name": "Python 3",
   "language": "python",
   "name": "python3"
  },
  "language_info": {
   "name": "python",
   "version": "3.8.0"
  }
 },
 "nbformat": 4,
 "nbformat_minor": 4
}
